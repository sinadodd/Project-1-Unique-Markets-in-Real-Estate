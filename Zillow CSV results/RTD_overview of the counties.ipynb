{
 "cells": [
  {
   "cell_type": "markdown",
   "metadata": {},
   "source": [
    "# Notes\n",
    "- Last updated 4/3 9pm"
   ]
  },
  {
   "cell_type": "code",
   "execution_count": null,
   "metadata": {},
   "outputs": [],
   "source": [
    "import matplotlib.pyplot as plt\n",
    "import pandas as pd\n",
    "import numpy as np"
   ]
  },
  {
   "cell_type": "markdown",
   "metadata": {},
   "source": [
    "## Price per sq ft"
   ]
  },
  {
   "cell_type": "code",
   "execution_count": null,
   "metadata": {},
   "outputs": [],
   "source": [
    "top_ppsf_file = \"top_counties_ppsf.csv\"\n",
    "top_ppsf_df = pd.read_csv(top_ppsf_file, encoding=\"latin\")\n",
    "\n",
    "top_ppsf_df['RegionName'] = top_ppsf_df['RegionName'].str.replace(\" County\", \"\")\n",
    "top_ppsf_df['County'] = top_ppsf_df['RegionName'] + \", \" + top_ppsf_df['State']\n",
    "\n",
    "top_ppsf_clean = top_ppsf_df[['County', 'Price per ft2']]\n",
    "top_ppsf_clean = top_ppsf_clean.iloc[::-1].reset_index(drop=True)"
   ]
  },
  {
   "cell_type": "code",
   "execution_count": null,
   "metadata": {},
   "outputs": [],
   "source": [
    "bottom_ppsf_file = \"bottom_counties_ppsf.csv\"\n",
    "bottom_ppsf_df = pd.read_csv(bottom_ppsf_file, encoding=\"latin\")\n",
    "\n",
    "bottom_ppsf_df['RegionName'] = bottom_ppsf_df['RegionName'].str.replace(\" County\", \"\")\n",
    "bottom_ppsf_df['County'] = bottom_ppsf_df['RegionName'] + \", \" + bottom_ppsf_df['State']\n",
    "\n",
    "bottom_ppsf_clean = bottom_ppsf_df[['County', 'Price per ft2']]"
   ]
  },
  {
   "cell_type": "code",
   "execution_count": null,
   "metadata": {},
   "outputs": [],
   "source": [
    "top_ppsf_county_list = top_ppsf_clean.sort_values(['Price per ft2'], ascending = False).reset_index(drop=True)\n",
    "top_ppsf_county_list['Price per ft2'] = top_ppsf_county_list['Price per ft2'].map(\"${:.2f}\".format)\n",
    "top_ppsf_county_list.to_csv(\"simple_top_ppsf.csv\", header=True)\n",
    "bottom_ppsf_county_list= bottom_ppsf_clean.sort_values(['Price per ft2'], ascending = False).reset_index(drop=True)\n",
    "bottom_ppsf_county_list['Price per ft2'] = bottom_ppsf_county_list['Price per ft2'].map(\"${:.2f}\".format)\n",
    "bottom_ppsf_county_list.to_csv(\"simple_bottom_ppsf.csv\", header=True)"
   ]
  },
  {
   "cell_type": "code",
   "execution_count": null,
   "metadata": {},
   "outputs": [],
   "source": [
    "plt.figure(figsize=(48,30))  \n",
    "plt.rcParams.update({'font.size': 30})\n",
    "\n",
    "bottom_ppsf_plot = plt.barh(bottom_ppsf_clean['County'], bottom_ppsf_clean['Price per ft2'])\n",
    "top_ppsf_plot = plt.barh(top_ppsf_clean['County'], top_ppsf_clean['Price per ft2'])\n",
    "\n",
    "plt.ylabel('County')\n",
    "plt.xlabel('Price per Sq. Foot')\n",
    "plt.title('Counties Sorted by Price per Sq. Foot')\n",
    "\n",
    "plt.legend((top_ppsf_plot, bottom_ppsf_plot), (\"Top 20\", \"Bottom 20\"), loc='lower right')\n",
    "\n",
    "plt.ylim(-0.75,39.75) \n",
    "plt.savefig(\"../Plots/counties by ppsf.png\")"
   ]
  },
  {
   "cell_type": "markdown",
   "metadata": {},
   "source": [
    "## Sale to List Ratio"
   ]
  },
  {
   "cell_type": "code",
   "execution_count": null,
   "metadata": {},
   "outputs": [],
   "source": [
    "top_slr_file = \"top_counties_Sale_List_Ratio.csv\"\n",
    "top_slr_df = pd.read_csv(top_slr_file, encoding=\"latin\")\n",
    "\n",
    "top_slr_df['RegionName'] = top_slr_df['RegionName'].str.replace(\" County\", \"\")\n",
    "top_slr_df['County'] = top_slr_df['RegionName'] + \", \" + top_slr_df['StateName']\n",
    "\n",
    "top_slr_clean = top_slr_df[['County', 'Sale to List Ratio']]\n",
    "top_slr_clean = top_slr_clean.iloc[::-1].reset_index(drop=True)"
   ]
  },
  {
   "cell_type": "code",
   "execution_count": null,
   "metadata": {},
   "outputs": [],
   "source": [
    "bottom_slr_file = \"bottom_counties_Sale_List_Ratio.csv\"\n",
    "bottom_slr_df = pd.read_csv(bottom_slr_file, encoding=\"latin\")\n",
    "\n",
    "bottom_slr_df['RegionName'] = bottom_slr_df['RegionName'].str.replace(\" County\", \"\")\n",
    "bottom_slr_df['County'] = bottom_slr_df['RegionName'] + \", \" + bottom_slr_df['StateName']\n",
    "\n",
    "bottom_slr_clean = bottom_slr_df[['County', 'Sale to List Ratio']]"
   ]
  },
  {
   "cell_type": "code",
   "execution_count": null,
   "metadata": {},
   "outputs": [],
   "source": [
    "top_slr_county_list = top_slr_clean.sort_values(['Sale to List Ratio'], ascending = False).reset_index(drop=True)\n",
    "top_slr_county_list['Sale to List Ratio'] = top_slr_county_list['Sale to List Ratio'].map(\"{:.3f}\".format)\n",
    "top_slr_county_list.to_csv(\"simple_top_slr.csv\", header=True)\n",
    "bottom_slr_county_list= bottom_slr_clean.sort_values(['Sale to List Ratio'], ascending = False).reset_index(drop=True)\n",
    "bottom_slr_county_list['Sale to List Ratio'] = bottom_slr_county_list['Sale to List Ratio'].map(\"{:.3f}\".format)\n",
    "bottom_slr_county_list.to_csv(\"simple_bottom_slr.csv\", header=True)"
   ]
  },
  {
   "cell_type": "code",
   "execution_count": null,
   "metadata": {
    "scrolled": false
   },
   "outputs": [],
   "source": [
    "plt.figure(figsize=(40,25))  \n",
    "plt.rcParams.update({'font.size': 30})\n",
    "\n",
    "bottom_slr_plot = plt.barh(bottom_slr_clean['County'], bottom_slr_clean['Sale to List Ratio'])\n",
    "top_slr_plot = plt.barh(top_slr_clean['County'], top_slr_clean['Sale to List Ratio'])\n",
    "\n",
    "plt.ylabel('County')\n",
    "plt.xlabel('Sale to List Ratio')\n",
    "plt.title('Counties Sorted by Sale to List Ratio')\n",
    "\n",
    "plt.legend((top_slr_plot, bottom_slr_plot), (\"Top 20\", \"Bottom 20\"), loc='lower right')\n",
    "\n",
    "plt.ylim(-0.75,39.75) \n",
    "plt.xlim(0.75,1.18) \n",
    "plt.vlines(1, -10, 40, color='grey', alpha=1)\n",
    "plt.savefig(\"../Plots/counties by sale to list ratio.png\")"
   ]
  },
  {
   "cell_type": "markdown",
   "metadata": {},
   "source": [
    "## Median Sale Price"
   ]
  },
  {
   "cell_type": "code",
   "execution_count": null,
   "metadata": {},
   "outputs": [],
   "source": [
    "top_sale_file = \"top_counties_Median_Sale_Price.csv\"\n",
    "top_sale_df = pd.read_csv(top_sale_file, encoding=\"latin\")\n",
    "\n",
    "top_sale_df[\"StateName\"] = top_sale_df[\"StateName\"].replace({'Alabama' : 'AL', 'Alaska' : 'AK', 'Arizona' : 'AZ', 'Arkansas' : 'AR', 'California' : 'CA', 'Colorado' : 'CO', 'Connecticut' : 'CT', 'Delaware' : 'DE', 'Florida' : 'FL', 'Georgia' : 'GA', 'Hawaii' : 'HI', 'Idaho' : 'ID', 'Illinois' : 'IL', 'Indiana' : 'IN', 'Iowa' : 'IA', 'Kansas' : 'KS', 'Kentucky' : 'KY', 'Louisiana' : 'LA', 'Maine' : 'ME', 'Maryland' : 'MD', 'Massachusetts' : 'MA', 'Michigan' : 'MI', 'Minnesota' : 'MN', 'Mississippi' : 'MS', 'Missouri' : 'MO', 'Montana' : 'MT', 'Nebraska' : 'NE', 'Nevada' : 'NV', 'New Hampshire' : 'NH', 'New Jersey' : 'NJ', 'New Mexico' : 'NM', 'New York' : 'NY', 'North Carolina' : 'NC', 'North Dakota' : 'ND', 'Ohio' : 'OH', 'Oklahoma' : 'OK', 'Oregon' : 'OR', 'Pennsylvania' : 'PA', 'Rhode Island' : 'RI', 'South Carolina' : 'SC', 'South Dakota' : 'SD', 'Tennessee' : 'TN', 'Texas' : 'TX', 'Utah' : 'UT', 'Vermont' : 'VT', 'Virginia' : 'VA', 'Washington' : 'WA', 'West Virginia' : 'WV', 'Wisconsin' : 'WI', 'Wyoming' : 'WY'})\n",
    "\n",
    "top_sale_df['RegionName'] = top_sale_df['RegionName'].str.replace(\" County\", \"\")\n",
    "top_sale_df['County'] = top_sale_df['RegionName'] + \", \" + top_sale_df['StateName']\n",
    "\n",
    "top_sale_clean = top_sale_df[['County', 'Median Sale Price']]\n",
    "top_sale_clean = top_sale_clean.iloc[::-1].reset_index(drop=True)"
   ]
  },
  {
   "cell_type": "code",
   "execution_count": null,
   "metadata": {},
   "outputs": [],
   "source": [
    "bottom_sale_file = \"bottom_counties_Median_Sale_Price.csv\"\n",
    "bottom_sale_df = pd.read_csv(bottom_sale_file, encoding=\"latin\")\n",
    "\n",
    "bottom_sale_df[\"StateName\"] = bottom_sale_df[\"StateName\"].replace({'Alabama' : 'AL', 'Alaska' : 'AK', 'Arizona' : 'AZ', 'Arkansas' : 'AR', 'California' : 'CA', 'Colorado' : 'CO', 'Connecticut' : 'CT', 'Delaware' : 'DE', 'Florida' : 'FL', 'Georgia' : 'GA', 'Hawaii' : 'HI', 'Idaho' : 'ID', 'Illinois' : 'IL', 'Indiana' : 'IN', 'Iowa' : 'IA', 'Kansas' : 'KS', 'Kentucky' : 'KY', 'Louisiana' : 'LA', 'Maine' : 'ME', 'Maryland' : 'MD', 'Massachusetts' : 'MA', 'Michigan' : 'MI', 'Minnesota' : 'MN', 'Mississippi' : 'MS', 'Missouri' : 'MO', 'Montana' : 'MT', 'Nebraska' : 'NE', 'Nevada' : 'NV', 'New Hampshire' : 'NH', 'New Jersey' : 'NJ', 'New Mexico' : 'NM', 'New York' : 'NY', 'North Carolina' : 'NC', 'North Dakota' : 'ND', 'Ohio' : 'OH', 'Oklahoma' : 'OK', 'Oregon' : 'OR', 'Pennsylvania' : 'PA', 'Rhode Island' : 'RI', 'South Carolina' : 'SC', 'South Dakota' : 'SD', 'Tennessee' : 'TN', 'Texas' : 'TX', 'Utah' : 'UT', 'Vermont' : 'VT', 'Virginia' : 'VA', 'Washington' : 'WA', 'West Virginia' : 'WV', 'Wisconsin' : 'WI', 'Wyoming' : 'WY'})\n",
    "\n",
    "bottom_sale_df['RegionName'] = bottom_sale_df['RegionName'].str.replace(\" County\", \"\")\n",
    "bottom_sale_df['County'] = bottom_sale_df['RegionName'] + \", \" + bottom_sale_df['StateName']\n",
    "\n",
    "bottom_sale_clean = bottom_sale_df[['County', 'Median Sale Price']]"
   ]
  },
  {
   "cell_type": "code",
   "execution_count": null,
   "metadata": {},
   "outputs": [],
   "source": [
    "# total_sale_county_list = pd.concat([top_sale_clean, bottom_sale_clean])\n",
    "# total_sale_county_list = total_sale_county_list.sort_values(['Median Sale Price'], ascending = False).reset_index(drop=True)\n",
    "# total_sale_county_list\n",
    "\n",
    "top_sale_county_list = top_sale_clean.sort_values(['Median Sale Price'], ascending = False).reset_index(drop=True)\n",
    "top_sale_county_list['Median Sale Price'] = top_sale_county_list['Median Sale Price'].map(\"${:,.0f}\".format)\n",
    "top_sale_county_list.to_csv(\"simple_top_median_sale.csv\", header=True)\n",
    "bottom_sale_county_list= bottom_sale_clean.sort_values(['Median Sale Price'], ascending = False).reset_index(drop=True)\n",
    "bottom_sale_county_list['Median Sale Price'] = bottom_sale_county_list['Median Sale Price'].map(\"${:,.0f}\".format)\n",
    "bottom_sale_county_list.to_csv(\"simple_bottom_median_sale.csv\", header=True)"
   ]
  },
  {
   "cell_type": "code",
   "execution_count": null,
   "metadata": {
    "scrolled": false
   },
   "outputs": [],
   "source": [
    "plt.figure(figsize=(40, 25))  \n",
    "plt.rcParams.update({'font.size': 30})\n",
    "\n",
    "bottom_sale_plot = plt.barh(bottom_sale_clean['County'], bottom_sale_clean['Median Sale Price'])\n",
    "top_sale_plot = plt.barh(top_sale_clean['County'], top_sale_clean['Median Sale Price'])\n",
    "\n",
    "plt.ylabel('County')\n",
    "plt.xlabel('Median Sale Price')\n",
    "plt.title('Counties Sorted by Median Sale Price')\n",
    "\n",
    "plt.legend((top_sale_plot, bottom_sale_plot), (\"Top 20\", \"Bottom 20\"), loc='lower right')\n",
    "\n",
    "plt.ylim(-0.75,39.75) \n",
    "plt.savefig(\"../Plots/counties by median sale price.png\")\n"
   ]
  },
  {
   "cell_type": "code",
   "execution_count": null,
   "metadata": {},
   "outputs": [],
   "source": []
  }
 ],
 "metadata": {
  "kernelspec": {
   "display_name": "Python 3",
   "language": "python",
   "name": "python3"
  },
  "language_info": {
   "codemirror_mode": {
    "name": "ipython",
    "version": 3
   },
   "file_extension": ".py",
   "mimetype": "text/x-python",
   "name": "python",
   "nbconvert_exporter": "python",
   "pygments_lexer": "ipython3",
   "version": "3.7.1"
  }
 },
 "nbformat": 4,
 "nbformat_minor": 2
}
