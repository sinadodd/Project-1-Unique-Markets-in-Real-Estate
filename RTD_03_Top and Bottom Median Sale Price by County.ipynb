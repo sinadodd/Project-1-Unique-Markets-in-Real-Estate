{
 "cells": [
  {
   "cell_type": "markdown",
   "metadata": {},
   "source": [
    "# Notes\n",
    "- Last updated 3/28 11pm"
   ]
  },
  {
   "cell_type": "code",
   "execution_count": null,
   "metadata": {},
   "outputs": [],
   "source": [
    "import matplotlib.pyplot as plt\n",
    "import pandas as pd\n",
    "import numpy as np"
   ]
  },
  {
   "cell_type": "code",
   "execution_count": null,
   "metadata": {},
   "outputs": [],
   "source": [
    "zillow_median_price_file = \"raw data/Zillow_County_MedianSalePrice.csv\"\n",
    "medprice_df = pd.read_csv(zillow_median_price_file, encoding=\"latin\")"
   ]
  },
  {
   "cell_type": "code",
   "execution_count": null,
   "metadata": {},
   "outputs": [],
   "source": [
    "columns = medprice_df.columns\n",
    "\n",
    "# Getting just 2014-2018 (5 complete years)\n",
    "filtered_columns = [col for col in columns if (col.startswith('RegionN')) or \n",
    "                    (col.startswith('State')) or (col.startswith('2014')) or \n",
    "                    (col.startswith('2015')) or (col.startswith('2016')) or \n",
    "                    (col.startswith('2017')) or (col.startswith('2018'))]\n",
    "df_2014_2018 = medprice_df[filtered_columns]\n",
    "df_2014_2018.head()"
   ]
  },
  {
   "cell_type": "code",
   "execution_count": null,
   "metadata": {},
   "outputs": [],
   "source": [
    "# Changing format to add columns: DATES and VALUES\n",
    "long_skinny_df = pd.melt(df_2014_2018, id_vars=[\"RegionName\", \"StateName\"], var_name = \"Month\", value_name = \"Median Sale Price\").dropna(how='any')"
   ]
  },
  {
   "cell_type": "code",
   "execution_count": null,
   "metadata": {},
   "outputs": [],
   "source": [
    "long_skinny_high = long_skinny_df.sort_values('Median Sale Price', ascending=False)\n",
    "top_counties_df = long_skinny_high.drop_duplicates(subset = [\"RegionName\", \"StateName\"])\n",
    "top_counties_df.head()"
   ]
  },
  {
   "cell_type": "code",
   "execution_count": null,
   "metadata": {},
   "outputs": [],
   "source": [
    "long_skinny_low = long_skinny_df.sort_values('Median Sale Price', ascending=False)\n",
    "bottom_counties_df = long_skinny_low.drop_duplicates(subset = [\"RegionName\", \"StateName\"])\n",
    "bottom_counties_df.head()"
   ]
  },
  {
   "cell_type": "code",
   "execution_count": null,
   "metadata": {},
   "outputs": [],
   "source": [
    "# export list to csv\n",
    "top_counties_df.head(20).to_csv(\"Zillow CSV results/top_counties_Median_Sale_Price.csv\", header=True)"
   ]
  },
  {
   "cell_type": "code",
   "execution_count": null,
   "metadata": {},
   "outputs": [],
   "source": [
    "# export list to csv\n",
    "bottom_counties_df.head(20).to_csv(\"Zillow CSV results/bottom_counties_Median_Sale_Price.csv\", header=True)"
   ]
  },
  {
   "cell_type": "code",
   "execution_count": null,
   "metadata": {},
   "outputs": [],
   "source": []
  }
 ],
 "metadata": {
  "kernelspec": {
   "display_name": "Python 3",
   "language": "python",
   "name": "python3"
  },
  "language_info": {
   "codemirror_mode": {
    "name": "ipython",
    "version": 3
   },
   "file_extension": ".py",
   "mimetype": "text/x-python",
   "name": "python",
   "nbconvert_exporter": "python",
   "pygments_lexer": "ipython3",
   "version": "3.7.1"
  }
 },
 "nbformat": 4,
 "nbformat_minor": 2
}
