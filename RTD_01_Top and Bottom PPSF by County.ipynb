{
 "cells": [
  {
   "cell_type": "markdown",
   "metadata": {},
   "source": [
    "# Notes\n",
    "- Last updated 3/28 10:50pm\n",
    "- Zillow csv problem: Some zillow files work in pd.read_csv(file) with no problem but if it doesn't work, try pd.read_csv(file, encoding=\"latin\")"
   ]
  },
  {
   "cell_type": "code",
   "execution_count": null,
   "metadata": {},
   "outputs": [],
   "source": [
    "import matplotlib.pyplot as plt\n",
    "import pandas as pd\n",
    "import numpy as np"
   ]
  },
  {
   "cell_type": "code",
   "execution_count": null,
   "metadata": {
    "scrolled": true
   },
   "outputs": [],
   "source": [
    "zillow_ppsf_file = \"raw data/Zillow_County_MedianListingPricePerSqft.csv\"\n",
    "zppsf_df = pd.read_csv(zillow_ppsf_file, encoding=\"latin\")\n",
    "zppsf_df.head()"
   ]
  },
  {
   "cell_type": "code",
   "execution_count": null,
   "metadata": {},
   "outputs": [],
   "source": [
    "columns = zppsf_df.columns\n",
    "\n",
    "# Getting just 2014-2018 (5 complete years)\n",
    "filtered_columns = [col for col in columns if (col.startswith('Region')) or \n",
    "                    (col.startswith('State')) or (col.startswith('2014')) or \n",
    "                    (col.startswith('2015')) or (col.startswith('2016')) or \n",
    "                    (col.startswith('2017')) or (col.startswith('2018'))]\n",
    "df_2014_2018 = zppsf_df[filtered_columns]\n",
    "df_2014_2018.head()"
   ]
  },
  {
   "cell_type": "code",
   "execution_count": null,
   "metadata": {},
   "outputs": [],
   "source": [
    "# Changing format to add columns: DATES and VALUES\n",
    "long_skinny_df = pd.melt(df_2014_2018, id_vars=[\"RegionName\", \"State\", \"StateCodeFIPS\"], var_name = \"Month\", value_name = \"Price per ft2\").dropna(how='any')\n"
   ]
  },
  {
   "cell_type": "code",
   "execution_count": null,
   "metadata": {},
   "outputs": [],
   "source": [
    "long_skinny_df_high = long_skinny_df.sort_values('Price per ft2', ascending=False)\n",
    "top_counties_df = long_skinny_df_high.drop_duplicates(subset = [\"RegionName\", \"State\"])\n",
    "top_counties_df.head()"
   ]
  },
  {
   "cell_type": "code",
   "execution_count": null,
   "metadata": {},
   "outputs": [],
   "source": [
    "long_skinny_df_low = long_skinny_df.sort_values('Price per ft2', ascending=True)\n",
    "bottom_counties_df = long_skinny_df_low.drop_duplicates(subset = [\"RegionName\", \"State\"])\n",
    "bottom_counties_df.head(20)"
   ]
  },
  {
   "cell_type": "code",
   "execution_count": null,
   "metadata": {},
   "outputs": [],
   "source": [
    "# export list to csv\n",
    "top_counties_df.head(20).to_csv(\"Zillow CSV results/top_counties_ppsf.csv\", header=True)"
   ]
  },
  {
   "cell_type": "code",
   "execution_count": null,
   "metadata": {},
   "outputs": [],
   "source": [
    "# export list to csv\n",
    "bottom_counties_df.head(20).to_csv(\"Zillow CSV results/bottom_counties_ppsf.csv\", header=True)"
   ]
  }
 ],
 "metadata": {
  "kernelspec": {
   "display_name": "Python 3",
   "language": "python",
   "name": "python3"
  },
  "language_info": {
   "codemirror_mode": {
    "name": "ipython",
    "version": 3
   },
   "file_extension": ".py",
   "mimetype": "text/x-python",
   "name": "python",
   "nbconvert_exporter": "python",
   "pygments_lexer": "ipython3",
   "version": "3.7.1"
  }
 },
 "nbformat": 4,
 "nbformat_minor": 2
}
