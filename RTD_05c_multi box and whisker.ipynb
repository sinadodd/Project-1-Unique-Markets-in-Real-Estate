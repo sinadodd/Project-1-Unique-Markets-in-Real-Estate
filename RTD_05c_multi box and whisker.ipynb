{
 "cells": [
  {
   "cell_type": "markdown",
   "metadata": {},
   "source": [
    "# Notes\n",
    "- Last updated 3/29 11pm"
   ]
  },
  {
   "cell_type": "code",
   "execution_count": null,
   "metadata": {},
   "outputs": [],
   "source": [
    "import matplotlib.pyplot as plt\n",
    "import pandas as pd\n",
    "import numpy as np"
   ]
  },
  {
   "cell_type": "code",
   "execution_count": null,
   "metadata": {
    "scrolled": false
   },
   "outputs": [],
   "source": [
    "# Get counties\n",
    "top_county_file = \"Zillow CSV results/top_counties_Sale_List_Ratio.csv\"\n",
    "top_county_df = pd.read_csv(top_county_file, encoding=\"latin\")\n",
    "bottom_county_file = \"Zillow CSV results/bottom_counties_Sale_List_Ratio.csv\"\n",
    "bottom_county_df = pd.read_csv(bottom_county_file, encoding=\"latin\")"
   ]
  },
  {
   "cell_type": "code",
   "execution_count": null,
   "metadata": {},
   "outputs": [],
   "source": [
    "# Clean up counties (Top)\n",
    "\n",
    "top_county_df['RegionName'] = top_county_df['RegionName'].str.replace(\" County\", \"\")\n",
    "top_county_df['County'] = top_county_df['RegionName'] + \", \" + top_county_df['StateName']\n",
    "\n",
    "top_county_clean = top_county_df[['County']]\n",
    "top_county_clean = top_county_clean.iloc[::-1].reset_index(drop=True)"
   ]
  },
  {
   "cell_type": "code",
   "execution_count": null,
   "metadata": {},
   "outputs": [],
   "source": [
    "# Clean up counties (Bottom)\n",
    "bottom_county_df['RegionName'] = bottom_county_df['RegionName'].str.replace(\" County\", \"\")\n",
    "bottom_county_df['County'] = bottom_county_df['RegionName'] + \", \" + bottom_county_df['StateName']\n",
    "\n",
    "bottom_county_clean = bottom_county_df[['County']]"
   ]
  },
  {
   "cell_type": "code",
   "execution_count": null,
   "metadata": {},
   "outputs": [],
   "source": [
    "# Get health factor data and clean up\n",
    "health_factor_path = \"raw data/2018_all_county_data_1.csv\"\n",
    "health_factor_df = pd.read_csv(health_factor_path, encoding=\"latin\")\n",
    "\n",
    "health_factor_df[\"State\"] = health_factor_df[\"State\"].replace({'Alabama' : 'AL', 'Alaska' : 'AK', 'Arizona' : 'AZ', 'Arkansas' : 'AR', 'California' : 'CA', 'Colorado' : 'CO', 'Connecticut' : 'CT', 'Delaware' : 'DE', 'Florida' : 'FL', 'Georgia' : 'GA', 'Hawaii' : 'HI', 'Idaho' : 'ID', 'Illinois' : 'IL', 'Indiana' : 'IN', 'Iowa' : 'IA', 'Kansas' : 'KS', 'Kentucky' : 'KY', 'Louisiana' : 'LA', 'Maine' : 'ME', 'Maryland' : 'MD', 'Massachusetts' : 'MA', 'Michigan' : 'MI', 'Minnesota' : 'MN', 'Mississippi' : 'MS', 'Missouri' : 'MO', 'Montana' : 'MT', 'Nebraska' : 'NE', 'Nevada' : 'NV', 'New Hampshire' : 'NH', 'New Jersey' : 'NJ', 'New Mexico' : 'NM', 'New York' : 'NY', 'North Carolina' : 'NC', 'North Dakota' : 'ND', 'Ohio' : 'OH', 'Oklahoma' : 'OK', 'Oregon' : 'OR', 'Pennsylvania' : 'PA', 'Rhode Island' : 'RI', 'South Carolina' : 'SC', 'South Dakota' : 'SD', 'Tennessee' : 'TN', 'Texas' : 'TX', 'Utah' : 'UT', 'Vermont' : 'VT', 'Virginia' : 'VA', 'Washington' : 'WA', 'West Virginia' : 'WV', 'Wisconsin' : 'WI', 'Wyoming' : 'WY'})\n",
    "health_factor_df['County'] = health_factor_df[\"County\"] + \", \" + health_factor_df[\"State\"]"
   ]
  },
  {
   "cell_type": "markdown",
   "metadata": {},
   "source": [
    "# PCP Rate\n",
    "primary care physician per 100,000 population"
   ]
  },
  {
   "cell_type": "code",
   "execution_count": null,
   "metadata": {},
   "outputs": [],
   "source": [
    "# Get specific health factor data\n",
    "\n",
    "PCP_rate = health_factor_df[[\"County\", \"PCP Rate\"]]"
   ]
  },
  {
   "cell_type": "code",
   "execution_count": null,
   "metadata": {
    "scrolled": true
   },
   "outputs": [],
   "source": [
    "# Make merge for plotting\n",
    "top_PCP = pd.merge(top_county_clean, PCP_rate, on='County', how='left')\n",
    "bottom_PCP = pd.merge(bottom_county_clean, PCP_rate, on='County', how='left')\n",
    "all_PCP = pd.merge(bottom_PCP, top_PCP, on=['County','PCP Rate'],how='outer')\n"
   ]
  },
  {
   "cell_type": "code",
   "execution_count": null,
   "metadata": {},
   "outputs": [],
   "source": [
    "# Plot\n",
    "plt.barh(bottom_PCP['County'], bottom_PCP['PCP Rate'])\n",
    "plt.barh(top_PCP['County'], top_PCP['PCP Rate'])"
   ]
  },
  {
   "cell_type": "markdown",
   "metadata": {},
   "source": [
    "# Dentist Rate\n",
    "dentist per 100,000 population"
   ]
  },
  {
   "cell_type": "code",
   "execution_count": null,
   "metadata": {},
   "outputs": [],
   "source": [
    "# Get specific health factor data\n",
    "\n",
    "dentist_rate_df = health_factor_df[[\"County\", \"Dentist Rate\"]]"
   ]
  },
  {
   "cell_type": "code",
   "execution_count": null,
   "metadata": {
    "scrolled": true
   },
   "outputs": [],
   "source": [
    "# Make merge for plotting\n",
    "top_dentist = pd.merge(top_county_clean, dentist_rate_df, on='County', how='left')\n",
    "bottom_dentist = pd.merge(bottom_county_clean, dentist_rate_df, on='County', how='left')\n",
    "all_dentist = pd.merge(bottom_dentist, top_dentist, on=['County','Dentist Rate'],how='outer')\n"
   ]
  },
  {
   "cell_type": "code",
   "execution_count": null,
   "metadata": {},
   "outputs": [],
   "source": [
    "# Plot\n",
    "\n",
    "plt.barh(bottom_dentist['County'], bottom_dentist['Dentist Rate'])\n",
    "\n",
    "plt.barh(top_dentist['County'], top_dentist['Dentist Rate'])"
   ]
  },
  {
   "cell_type": "markdown",
   "metadata": {},
   "source": [
    "# MHP Rate\n",
    "mental health provider per 100,000 population"
   ]
  },
  {
   "cell_type": "code",
   "execution_count": null,
   "metadata": {},
   "outputs": [],
   "source": [
    "# Get specific health factor data\n",
    "\n",
    "MHP_rate = health_factor_df[[\"County\", \"MHP Rate\"]]\n"
   ]
  },
  {
   "cell_type": "code",
   "execution_count": null,
   "metadata": {
    "scrolled": true
   },
   "outputs": [],
   "source": [
    "# Make merge for plotting\n",
    "top_MHP = pd.merge(top_county_clean, MHP_rate, on='County', how='left')\n",
    "bottom_MHP = pd.merge(bottom_county_clean, MHP_rate, on='County', how='left')\n",
    "all_MHP = pd.merge(bottom_MHP, top_MHP, on=['County','MHP Rate'],how='outer')\n"
   ]
  },
  {
   "cell_type": "code",
   "execution_count": null,
   "metadata": {},
   "outputs": [],
   "source": [
    "# Plot\n",
    "\n",
    "plt.barh(bottom_MHP['County'], bottom_MHP['MHP Rate'])\n",
    "\n",
    "plt.barh(top_MHP['County'], top_MHP['MHP Rate'])"
   ]
  },
  {
   "cell_type": "markdown",
   "metadata": {},
   "source": [
    "# Box and whisker"
   ]
  },
  {
   "cell_type": "code",
   "execution_count": null,
   "metadata": {},
   "outputs": [],
   "source": [
    "# Remove rows with NaN\n",
    "trim_bottom_MHP = bottom_MHP.dropna()\n",
    "trim_bottom_dentist = bottom_dentist.dropna()\n",
    "trim_bottom_PCP = bottom_PCP.dropna()\n",
    "trim_top_MHP = top_MHP.dropna()\n",
    "trim_top_dentist = top_dentist.dropna()\n",
    "trim_top_PCP = top_PCP.dropna()"
   ]
  },
  {
   "cell_type": "code",
   "execution_count": null,
   "metadata": {},
   "outputs": [],
   "source": [
    "\n",
    "all_data = [trim_bottom_MHP['MHP Rate'], trim_bottom_dentist['Dentist Rate'], trim_bottom_PCP['PCP Rate'],\n",
    "            trim_top_MHP['MHP Rate'],  trim_top_dentist['Dentist Rate'], trim_top_PCP['PCP Rate']]\n",
    "plt.figure(figsize=(13,10))  \n",
    "plt.rcParams.update({'font.size': 15})\n",
    "boxplot = plt.boxplot(all_data, vert=False, patch_artist=True,labels=['MHP','Dentist','PCP','MHP', 'Dentist', 'PCP'])\n",
    "\n",
    "colors = ['lightsteelblue', 'cornflowerblue', 'steelblue', 'peachpuff', 'darkorange', 'orangered']\n",
    "for patch, color in zip(boxplot['boxes'], colors):\n",
    "    patch.set_facecolor(color)\n",
    "plt.setp(boxplot['medians'], color='black')    \n",
    "\n",
    "\n",
    "plt.ylabel('County by S-to-L Ratio')\n",
    "plt.text(600, 3.25, 'Top 20 Counties \\n\\nBottom 20 Counties')\n",
    "\n",
    "plt.hlines(3.5, -100, 875, linestyles='dashed', colors='grey')\n",
    "plt.xlabel('per 100,000 population')\n",
    "plt.title('Average Health Provider Availability')\n",
    "plt.yticks()\n",
    "plt.xlim(0,875)\n",
    "\n",
    "plt.savefig(\"Plots/boxplot_health_providers_by_sale_list_ratio.png\")"
   ]
  },
  {
   "cell_type": "code",
   "execution_count": null,
   "metadata": {},
   "outputs": [],
   "source": [
    "\n",
    "all_data = [trim_bottom_MHP['MHP Rate'], trim_top_MHP['MHP Rate'], \n",
    "            trim_bottom_dentist['Dentist Rate'], trim_top_dentist['Dentist Rate'], \n",
    "            trim_bottom_PCP['PCP Rate'], trim_top_PCP['PCP Rate']]\n",
    "plt.rcParams.update({'font.size': 20})\n",
    "boxplot = plt.boxplot(all_data, vert=False, patch_artist=True,labels=['Bottom 20','Top 20','Bottom 20','Top 20','Bottom 20','Top 20'])\n",
    "\n",
    "\n",
    "colors = ['cornflowerblue', 'darkorange', 'cornflowerblue', 'darkorange', 'cornflowerblue', 'darkorange']\n",
    "for patch, color in zip(boxplot['boxes'], colors):\n",
    "    patch.set_facecolor(color)\n",
    "plt.setp(boxplot['medians'], color='black')    \n",
    "plt.ylabel('MHP   Dentist   PCP')\n",
    "plt.xlabel('per 100,000 population')\n",
    "plt.title('Average Health Provider Availability')\n",
    "plt.yticks()\n",
    "# plt.xlim(-15,875)"
   ]
  },
  {
   "cell_type": "code",
   "execution_count": null,
   "metadata": {},
   "outputs": [],
   "source": [
    "\n",
    "all_data = [trim_bottom_dentist['Dentist Rate'], trim_top_dentist['Dentist Rate'], \n",
    "            trim_bottom_PCP['PCP Rate'], trim_top_PCP['PCP Rate']]\n",
    "\n",
    "plt.figure(figsize=(13,10))  \n",
    "plt.rcParams.update({'font.size': 15})\n",
    "\n",
    "boxplot = plt.boxplot(all_data, vert=False, patch_artist=True,labels=['Bottom 20','Top 20','Bottom 20','Top 20'])\n",
    "\n",
    "colors = ['cornflowerblue', 'darkorange', 'cornflowerblue', 'darkorange']\n",
    "for patch, color in zip(boxplot['boxes'], colors):\n",
    "    patch.set_facecolor(color)\n",
    "plt.setp(boxplot['medians'], color='black')    \n",
    "# plt.ylabel('Dentist        PCP')\n",
    "plt.ylabel('County by S-to-L Ratio')\n",
    "plt.hlines(2.5, 0, 200, linestyles='dashed', colors='grey')\n",
    "plt.text(4, 2.32, 'PCP \\n\\nDentist')\n",
    "plt.xlabel('per 100,000 population')\n",
    "plt.title('PCP and Dentist Availability')\n",
    "plt.yticks()\n",
    "plt.xlim(0,175)\n",
    "plt.savefig(\"Plots/boxplot_PCP_Dentist_by_sale_list_ratio.png\")"
   ]
  },
  {
   "cell_type": "code",
   "execution_count": null,
   "metadata": {},
   "outputs": [],
   "source": [
    "all_data_MHP = [trim_bottom_MHP['MHP Rate'], trim_top_MHP['MHP Rate']]\n",
    "\n",
    "plt.figure(figsize=(13,10))  \n",
    "plt.rcParams.update({'font.size': 15})\n",
    "\n",
    "boxplot = plt.boxplot(all_data_MHP, vert=False, patch_artist=True,labels=['Bottom 20','Top 20'], widths=(0.3, 0.3))\n",
    "\n",
    "\n",
    "colors = ['cornflowerblue', 'darkorange']\n",
    "for patch, color in zip(boxplot['boxes'], colors):\n",
    "    patch.set_facecolor(color)\n",
    "plt.setp(boxplot['medians'], color='black')    \n",
    "plt.ylabel('County by S-to-L Ratio')\n",
    "plt.xlabel('per 100,000 population')\n",
    "plt.title('Mental Health Provider Availability')\n",
    "plt.yticks()\n",
    "plt.xlim(0,875)\n",
    "plt.savefig(\"Plots/boxplot_MHP_by_sale_list_ratio.png\")"
   ]
  },
  {
   "cell_type": "code",
   "execution_count": null,
   "metadata": {},
   "outputs": [],
   "source": [
    "\n",
    "# all_data = [trim_bottom_MHP['MHP Rate'], trim_top_MHP['MHP Rate'], \n",
    "#             trim_bottom_dentist['Dentist Rate'], trim_top_dentist['Dentist Rate'], \n",
    "#             trim_bottom_PCP['PCP Rate'], trim_top_PCP['PCP Rate']]\n",
    "# plt.rcParams.update({'font.size': 15})\n",
    "# boxplot = plt.boxplot(all_data, vert=True, patch_artist=True,labels=['Top 20','\\nBottom 20', 'Top 20','\\nBottom 20', 'Top 20','\\nBottom 20'])\n",
    "\n",
    "\n",
    "# colors = ['peachpuff', 'cornflowerblue', 'peachpuff', 'cornflowerblue','peachpuff', 'cornflowerblue']\n",
    "# for patch, color in zip(boxplot['boxes'], colors):\n",
    "#     patch.set_facecolor(color)\n",
    "    \n",
    "# plt.xlabel('\\nMHP     |     Dentist     |     PCP')\n",
    "# plt.ylabel('per 100,000 population')\n",
    "# plt.title('Average Health Provider Availability')\n",
    "# plt.yticks()\n",
    "# # plt.ylim(-20,875)"
   ]
  },
  {
   "cell_type": "code",
   "execution_count": null,
   "metadata": {
    "scrolled": true
   },
   "outputs": [],
   "source": [
    "\n",
    "# all_data = [trim_bottom_dentist['Dentist Rate'], trim_top_dentist['Dentist Rate'], \n",
    "#             trim_bottom_PCP['PCP Rate'], trim_top_PCP['PCP Rate']]\n",
    "# plt.rcParams.update({'font.size': 15})\n",
    "# boxplot = plt.boxplot(all_data, vert=True, patch_artist=True,labels=['Top 20','\\nBottom 20', 'Top 20','\\nBottom 20'])\n",
    "\n",
    "\n",
    "# colors = ['peachpuff', 'cornflowerblue','peachpuff', 'cornflowerblue']\n",
    "# for patch, color in zip(boxplot['boxes'], colors):\n",
    "#     patch.set_facecolor(color)\n",
    "    \n",
    "# plt.xlabel('\\nDentist          PCP')\n",
    "# plt.ylabel('per 100,000 population')\n",
    "# plt.title('Average Health Provider Availability')\n",
    "# plt.yticks()\n",
    "# # plt.ylim(-20,875)"
   ]
  },
  {
   "cell_type": "markdown",
   "metadata": {},
   "source": [
    "# Percent Uninsured"
   ]
  },
  {
   "cell_type": "code",
   "execution_count": null,
   "metadata": {},
   "outputs": [],
   "source": [
    "# Specific health factor \n",
    "uninsured_rate = health_factor_df[[\"County\", \"% Uninsured\"]]"
   ]
  },
  {
   "cell_type": "code",
   "execution_count": null,
   "metadata": {
    "scrolled": true
   },
   "outputs": [],
   "source": [
    "# Make merge for plotting\n",
    "top_uninsured = pd.merge(top_county_clean, uninsured_rate, on='County', how='left')\n",
    "bottom_uninsured = pd.merge(bottom_county_clean, uninsured_rate, on='County', how='left')"
   ]
  },
  {
   "cell_type": "code",
   "execution_count": null,
   "metadata": {},
   "outputs": [],
   "source": [
    "# Plot\n",
    "plt.barh(bottom_uninsured['County'], bottom_uninsured['% Uninsured'])\n",
    "plt.barh(top_uninsured['County'], top_uninsured['% Uninsured'])"
   ]
  },
  {
   "cell_type": "code",
   "execution_count": null,
   "metadata": {},
   "outputs": [],
   "source": [
    "all_uninsured = pd.merge(bottom_uninsured, top_uninsured, on=['County','% Uninsured'],how='outer')\n",
    "\n",
    "trim_bottom_uninsured = bottom_uninsured.dropna()\n",
    "trim_top_uninsured = top_uninsured.dropna()"
   ]
  },
  {
   "cell_type": "code",
   "execution_count": null,
   "metadata": {},
   "outputs": [],
   "source": [
    "all_data_uninsured = [trim_bottom_uninsured['% Uninsured'], trim_top_uninsured['% Uninsured']]\n",
    "\n",
    "plt.figure(figsize=(40,15))  \n",
    "plt.rcParams.update({'font.size': 55})\n",
    "\n",
    "boxplot = plt.boxplot(all_data_uninsured, vert=False, patch_artist=True,labels=['Bottom 20','Top 20'], widths=(0.70, 0.7))\n",
    "\n",
    "colors = ['cornflowerblue', 'darkorange']\n",
    "for patch, color in zip(boxplot['boxes'], colors):\n",
    "    patch.set_facecolor(color)\n",
    "    \n",
    "plt.setp(boxplot['medians'], color='black')    \n",
    "plt.ylabel('Counties by S-to-L ratio')\n",
    "plt.xlabel('% Uninsured')\n",
    "# plt.title('% Uninsured')\n",
    "plt.yticks()\n",
    "# plt.xlim(-15,600)\n",
    "\n",
    "plt.savefig(\"Plots/boxplot_uninsured_by_sale_list_ratio.png\")"
   ]
  },
  {
   "cell_type": "code",
   "execution_count": null,
   "metadata": {},
   "outputs": [],
   "source": []
  }
 ],
 "metadata": {
  "kernelspec": {
   "display_name": "Python 3",
   "language": "python",
   "name": "python3"
  },
  "language_info": {
   "codemirror_mode": {
    "name": "ipython",
    "version": 3
   },
   "file_extension": ".py",
   "mimetype": "text/x-python",
   "name": "python",
   "nbconvert_exporter": "python",
   "pygments_lexer": "ipython3",
   "version": "3.7.1"
  }
 },
 "nbformat": 4,
 "nbformat_minor": 2
}
