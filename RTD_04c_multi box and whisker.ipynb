{
 "cells": [
  {
   "cell_type": "markdown",
   "metadata": {},
   "source": [
    "# Notes\n",
    "- Just working with the healthcare provider data and trying to put it into one multi-data bar graph"
   ]
  },
  {
   "cell_type": "code",
   "execution_count": null,
   "metadata": {},
   "outputs": [],
   "source": [
    "# %matplotlib notebook\n",
    "import matplotlib.pyplot as plt\n",
    "import pandas as pd\n",
    "import numpy as np\n",
    "import scipy.stats as stats"
   ]
  },
  {
   "cell_type": "code",
   "execution_count": null,
   "metadata": {
    "scrolled": false
   },
   "outputs": [],
   "source": [
    "# Get counties\n",
    "top_county_file = \"Zillow CSV results/top_counties_Median_Sale_Price.csv\"\n",
    "top_county_df = pd.read_csv(top_county_file, encoding=\"latin\")\n",
    "bottom_county_file = \"Zillow CSV results/bottom_counties_Median_Sale_Price.csv\"\n",
    "bottom_county_df = pd.read_csv(bottom_county_file, encoding=\"latin\")"
   ]
  },
  {
   "cell_type": "code",
   "execution_count": null,
   "metadata": {},
   "outputs": [],
   "source": [
    "# Clean up counties (Top)\n",
    "top_county_df[\"StateName\"] = top_county_df[\"StateName\"].replace({'Alabama' : 'AL', 'Alaska' : 'AK', 'Arizona' : 'AZ', 'Arkansas' : 'AR', 'California' : 'CA', 'Colorado' : 'CO', 'Connecticut' : 'CT', 'Delaware' : 'DE', 'Florida' : 'FL', 'Georgia' : 'GA', 'Hawaii' : 'HI', 'Idaho' : 'ID', 'Illinois' : 'IL', 'Indiana' : 'IN', 'Iowa' : 'IA', 'Kansas' : 'KS', 'Kentucky' : 'KY', 'Louisiana' : 'LA', 'Maine' : 'ME', 'Maryland' : 'MD', 'Massachusetts' : 'MA', 'Michigan' : 'MI', 'Minnesota' : 'MN', 'Mississippi' : 'MS', 'Missouri' : 'MO', 'Montana' : 'MT', 'Nebraska' : 'NE', 'Nevada' : 'NV', 'New Hampshire' : 'NH', 'New Jersey' : 'NJ', 'New Mexico' : 'NM', 'New York' : 'NY', 'North Carolina' : 'NC', 'North Dakota' : 'ND', 'Ohio' : 'OH', 'Oklahoma' : 'OK', 'Oregon' : 'OR', 'Pennsylvania' : 'PA', 'Rhode Island' : 'RI', 'South Carolina' : 'SC', 'South Dakota' : 'SD', 'Tennessee' : 'TN', 'Texas' : 'TX', 'Utah' : 'UT', 'Vermont' : 'VT', 'Virginia' : 'VA', 'Washington' : 'WA', 'West Virginia' : 'WV', 'Wisconsin' : 'WI', 'Wyoming' : 'WY'})\n",
    "\n",
    "top_county_df['RegionName'] = top_county_df['RegionName'].str.replace(\" County\", \"\")\n",
    "top_county_df['County'] = top_county_df['RegionName'] + \", \" + top_county_df['StateName']\n",
    "\n",
    "top_county_clean = top_county_df[['County']]\n",
    "top_county_clean = top_county_clean.iloc[::-1].reset_index(drop=True)\n"
   ]
  },
  {
   "cell_type": "code",
   "execution_count": null,
   "metadata": {},
   "outputs": [],
   "source": [
    "# Clean up counties (Bottom)\n",
    "\n",
    "bottom_county_df[\"StateName\"] = bottom_county_df[\"StateName\"].replace({'Alabama' : 'AL', 'Alaska' : 'AK', 'Arizona' : 'AZ', 'Arkansas' : 'AR', 'California' : 'CA', 'Colorado' : 'CO', 'Connecticut' : 'CT', 'Delaware' : 'DE', 'Florida' : 'FL', 'Georgia' : 'GA', 'Hawaii' : 'HI', 'Idaho' : 'ID', 'Illinois' : 'IL', 'Indiana' : 'IN', 'Iowa' : 'IA', 'Kansas' : 'KS', 'Kentucky' : 'KY', 'Louisiana' : 'LA', 'Maine' : 'ME', 'Maryland' : 'MD', 'Massachusetts' : 'MA', 'Michigan' : 'MI', 'Minnesota' : 'MN', 'Mississippi' : 'MS', 'Missouri' : 'MO', 'Montana' : 'MT', 'Nebraska' : 'NE', 'Nevada' : 'NV', 'New Hampshire' : 'NH', 'New Jersey' : 'NJ', 'New Mexico' : 'NM', 'New York' : 'NY', 'North Carolina' : 'NC', 'North Dakota' : 'ND', 'Ohio' : 'OH', 'Oklahoma' : 'OK', 'Oregon' : 'OR', 'Pennsylvania' : 'PA', 'Rhode Island' : 'RI', 'South Carolina' : 'SC', 'South Dakota' : 'SD', 'Tennessee' : 'TN', 'Texas' : 'TX', 'Utah' : 'UT', 'Vermont' : 'VT', 'Virginia' : 'VA', 'Washington' : 'WA', 'West Virginia' : 'WV', 'Wisconsin' : 'WI', 'Wyoming' : 'WY'})\n",
    "\n",
    "bottom_county_df['RegionName'] = bottom_county_df['RegionName'].str.replace(\" County\", \"\")\n",
    "bottom_county_df['County'] = bottom_county_df['RegionName'] + \", \" + bottom_county_df['StateName']\n",
    "\n",
    "bottom_county_clean = bottom_county_df[['County']]"
   ]
  },
  {
   "cell_type": "code",
   "execution_count": null,
   "metadata": {},
   "outputs": [],
   "source": [
    "# Get health factor data and clean up\n",
    "health_factor_path = \"raw data/2018_all_county_data_1.csv\"\n",
    "health_factor_df = pd.read_csv(health_factor_path, encoding=\"latin\")\n",
    "\n",
    "health_factor_df[\"State\"] = health_factor_df[\"State\"].replace({'Alabama' : 'AL', 'Alaska' : 'AK', 'Arizona' : 'AZ', 'Arkansas' : 'AR', 'California' : 'CA', 'Colorado' : 'CO', 'Connecticut' : 'CT', 'Delaware' : 'DE', 'Florida' : 'FL', 'Georgia' : 'GA', 'Hawaii' : 'HI', 'Idaho' : 'ID', 'Illinois' : 'IL', 'Indiana' : 'IN', 'Iowa' : 'IA', 'Kansas' : 'KS', 'Kentucky' : 'KY', 'Louisiana' : 'LA', 'Maine' : 'ME', 'Maryland' : 'MD', 'Massachusetts' : 'MA', 'Michigan' : 'MI', 'Minnesota' : 'MN', 'Mississippi' : 'MS', 'Missouri' : 'MO', 'Montana' : 'MT', 'Nebraska' : 'NE', 'Nevada' : 'NV', 'New Hampshire' : 'NH', 'New Jersey' : 'NJ', 'New Mexico' : 'NM', 'New York' : 'NY', 'North Carolina' : 'NC', 'North Dakota' : 'ND', 'Ohio' : 'OH', 'Oklahoma' : 'OK', 'Oregon' : 'OR', 'Pennsylvania' : 'PA', 'Rhode Island' : 'RI', 'South Carolina' : 'SC', 'South Dakota' : 'SD', 'Tennessee' : 'TN', 'Texas' : 'TX', 'Utah' : 'UT', 'Vermont' : 'VT', 'Virginia' : 'VA', 'Washington' : 'WA', 'West Virginia' : 'WV', 'Wisconsin' : 'WI', 'Wyoming' : 'WY'})\n",
    "health_factor_df['County'] = health_factor_df[\"County\"] + \", \" + health_factor_df[\"State\"]"
   ]
  },
  {
   "cell_type": "markdown",
   "metadata": {},
   "source": [
    "# PCP Rate\n",
    "primary care physician per 100,000 population"
   ]
  },
  {
   "cell_type": "code",
   "execution_count": null,
   "metadata": {},
   "outputs": [],
   "source": [
    "# Get specific health factor data\n",
    "PCP_rate = health_factor_df[[\"County\", \"PCP Rate\"]]\n"
   ]
  },
  {
   "cell_type": "code",
   "execution_count": null,
   "metadata": {
    "scrolled": true
   },
   "outputs": [],
   "source": [
    "# Make merge for plotting\n",
    "top_PCP = pd.merge(top_county_clean, PCP_rate, on='County', how='left')\n",
    "bottom_PCP = pd.merge(bottom_county_clean, PCP_rate, on='County', how='left')\n",
    "all_PCP = pd.merge(bottom_PCP, top_PCP, on=['County','PCP Rate'],how='outer')\n",
    "top_PCP"
   ]
  },
  {
   "cell_type": "code",
   "execution_count": null,
   "metadata": {},
   "outputs": [],
   "source": [
    "# Plot\n",
    "plt.barh(bottom_PCP['County'], bottom_PCP['PCP Rate'])\n",
    "plt.barh(top_PCP['County'], top_PCP['PCP Rate'])"
   ]
  },
  {
   "cell_type": "code",
   "execution_count": null,
   "metadata": {},
   "outputs": [],
   "source": [
    "# Run t-test\n",
    "pop_top_PCP = top_PCP['PCP Rate']\n",
    "pop_bottom_PCP = bottom_PCP['PCP Rate']\n",
    "ttest_PCP = stats.ttest_ind(pop_top_PCP, pop_bottom_PCP, equal_var=False)\n",
    "\n",
    "# Get p-value clean\n",
    "if ttest_PCP[1] <0.001:\n",
    "    pvalue_PCP = '{0:.1e}'.format(ttest_PCP[1])\n",
    "else:\n",
    "    pvalue_PCP = '{0:.3f}'.format(ttest_PCP[1])\n",
    "pvalue_PCP"
   ]
  },
  {
   "cell_type": "markdown",
   "metadata": {},
   "source": [
    "# Dentist Rate\n",
    "dentist per 100,000 population"
   ]
  },
  {
   "cell_type": "code",
   "execution_count": null,
   "metadata": {},
   "outputs": [],
   "source": [
    "# Get specific health factor data\n",
    "\n",
    "dentist_rate_df = health_factor_df[[\"County\", \"Dentist Rate\"]]\n",
    "dentist_rate_df.head()"
   ]
  },
  {
   "cell_type": "code",
   "execution_count": null,
   "metadata": {
    "scrolled": true
   },
   "outputs": [],
   "source": [
    "# Make merge for plotting\n",
    "top_dentist = pd.merge(top_county_clean, dentist_rate_df, on='County', how='left')\n",
    "bottom_dentist = pd.merge(bottom_county_clean, dentist_rate_df, on='County', how='left')\n",
    "all_dentist = pd.merge(bottom_dentist, top_dentist, on=['County','Dentist Rate'],how='outer')\n",
    "all_dentist"
   ]
  },
  {
   "cell_type": "code",
   "execution_count": null,
   "metadata": {},
   "outputs": [],
   "source": [
    "# Plot\n",
    "\n",
    "plt.barh(bottom_dentist['County'], bottom_dentist['Dentist Rate'])\n",
    "\n",
    "plt.barh(top_dentist['County'], top_dentist['Dentist Rate'])"
   ]
  },
  {
   "cell_type": "code",
   "execution_count": null,
   "metadata": {},
   "outputs": [],
   "source": [
    "# Run t-test\n",
    "pop_top_dentist = top_dentist['Dentist Rate']\n",
    "pop_bottom_dentist = bottom_dentist['Dentist Rate']\n",
    "ttest_dentist = stats.ttest_ind(pop_top_dentist, pop_bottom_dentist, equal_var=False)\n",
    "\n",
    "# Get p-value clean\n",
    "if ttest_dentist[1] <0.001:\n",
    "    pvalue_dentist = '{0:.1e}'.format(ttest_dentist[1])\n",
    "else:\n",
    "    pvalue_dentist = '{0:.3f}'.format(ttest_dentist[1])\n",
    "pvalue_dentist"
   ]
  },
  {
   "cell_type": "markdown",
   "metadata": {},
   "source": [
    "# MHP Rate\n",
    "mental health provider per 100,000 population"
   ]
  },
  {
   "cell_type": "code",
   "execution_count": null,
   "metadata": {},
   "outputs": [],
   "source": [
    "# Get specific health factor data\n",
    "\n",
    "MHP_rate = health_factor_df[[\"County\", \"MHP Rate\"]]\n",
    "MHP_rate.head()"
   ]
  },
  {
   "cell_type": "code",
   "execution_count": null,
   "metadata": {
    "scrolled": true
   },
   "outputs": [],
   "source": [
    "# Make merge for plotting\n",
    "\n",
    "top_MHP = pd.merge(top_county_clean, MHP_rate, on='County', how='left')\n",
    "bottom_MHP = pd.merge(bottom_county_clean, MHP_rate, on='County', how='left')\n",
    "all_MHP = pd.merge(bottom_MHP, top_MHP, on=['County','MHP Rate'],how='outer')\n",
    "all_MHP"
   ]
  },
  {
   "cell_type": "code",
   "execution_count": null,
   "metadata": {},
   "outputs": [],
   "source": [
    "# Plot\n",
    "\n",
    "plt.barh(bottom_MHP['County'], bottom_MHP['MHP Rate'])\n",
    "\n",
    "plt.barh(top_MHP['County'], top_MHP['MHP Rate'])"
   ]
  },
  {
   "cell_type": "code",
   "execution_count": null,
   "metadata": {},
   "outputs": [],
   "source": [
    "# Run t-test\n",
    "pop_top_MHP = top_MHP['MHP Rate']\n",
    "pop_bottom_MHP = bottom_MHP['MHP Rate']\n",
    "ttest_MHP = stats.ttest_ind(pop_top_MHP, pop_bottom_MHP, equal_var=False)\n",
    "\n",
    "# Get p-value clean\n",
    "if ttest_MHP[1] <0.001:\n",
    "    pvalue_MHP = '{0:.1e}'.format(ttest_MHP[1])\n",
    "else:\n",
    "    pvalue_MHP = '{0:.3f}'.format(ttest_MHP[1])\n",
    "pvalue_MHP"
   ]
  },
  {
   "cell_type": "markdown",
   "metadata": {},
   "source": [
    "# Multiplot"
   ]
  },
  {
   "cell_type": "code",
   "execution_count": null,
   "metadata": {},
   "outputs": [],
   "source": [
    "# full_county_list = pd.merge(bottom_county_clean, top_county_clean, on='County', how='outer')\n",
    "# plt.barh(all_PCP['County'], all_PCP['PCP Rate'])\n",
    "# plt.barh(all_dentist['County'], all_dentist['Dentist Rate'])\n",
    "# plt.barh(all_MHP['County'], all_MHP['MHP Rate'])"
   ]
  },
  {
   "cell_type": "code",
   "execution_count": null,
   "metadata": {
    "scrolled": true
   },
   "outputs": [],
   "source": [
    "# data to plot\n",
    "n_groups = 40\n",
    "PCP_plot = (all_PCP['PCP Rate'])\n",
    "dentist_plot = (all_dentist['Dentist Rate'])\n",
    "MHP_plot = (all_MHP['MHP Rate'])\n",
    " \n",
    "# create plot\n",
    "fig, ax = plt.subplots()\n",
    "index = np.arange(n_groups)\n",
    "bar_width = 0.28\n",
    " \n",
    "plt.figure(figsize=(25,20))  \n",
    "plt.rcParams.update({'font.size': 24})\n",
    "\n",
    "mhp_plot = plt.barh(index, MHP_plot, bar_width,\n",
    "                  alpha=1,\n",
    "                  color=['lightsteelblue' for _ in range(20)]+['lightcoral' for _ in range(20)],\n",
    "                  edgecolor=['midnightblue' for _ in range(20)]+['firebrick' for _ in range(20)],\n",
    "                  label='MHP')\n",
    "\n",
    "dentist_plot = plt.barh(index + bar_width, dentist_plot, bar_width,\n",
    "                  alpha=1,\n",
    "                  color=['cornflowerblue' for _ in range(20)]+['orange' for _ in range(20)],\n",
    "                  edgecolor=['midnightblue' for _ in range(20)]+['firebrick' for _ in range(20)],\n",
    "                  label='Dentist')\n",
    "\n",
    "pcp_plot = plt.barh(index + 2*bar_width, PCP_plot, bar_width,\n",
    "                  alpha=1,\n",
    "                  color=['steelblue' for _ in range(20)]+['orangered' for _ in range(20)],\n",
    "                  edgecolor=['midnightblue' for _ in range(20)]+['firebrick' for _ in range(20)],\n",
    "                  label='PCP')\n",
    "\n",
    "\n",
    "plt.ylabel('County')\n",
    "plt.xlabel('per 100,000 population')\n",
    "plt.title('Health Provider Availability')\n",
    "plt.yticks(index + bar_width, (all_PCP['County']))\n",
    "\n",
    "plt.legend((pcp_plot[20], dentist_plot[20], mhp_plot[20], pcp_plot, dentist_plot, mhp_plot), (\"PCP\", \"Dentist\", \"MHP\", \"PCP\", \"Dentist\", \"MHP\"))\n",
    "\n",
    "plt.ylim(-0.28,39.87) \n",
    "plt.xlim(0,860)\n",
    "      \n",
    "plt.tight_layout()\n",
    "# plt.show()\n",
    "# plt.savefig(\"Plots/available_services_by_median_sale_price.png\")"
   ]
  },
  {
   "cell_type": "markdown",
   "metadata": {},
   "source": [
    "# Box and whisker"
   ]
  },
  {
   "cell_type": "code",
   "execution_count": null,
   "metadata": {},
   "outputs": [],
   "source": [
    "\n",
    "# mpl_fig = plt.figure()\n",
    "# ax = mpl_fig.add_subplot(111)\n",
    "all_data = [bottom_MHP['MHP Rate'], bottom_dentist['Dentist Rate'], bottom_PCP['PCP Rate'],\n",
    "            top_MHP['MHP Rate'],  top_dentist['Dentist Rate'], top_PCP['PCP Rate']]\n",
    "plt.rcParams.update({'font.size': 20})\n",
    "boxplot = plt.boxplot(all_data, vert=False, patch_artist=True,labels=['MHP','Dentist','PCP','MHP', 'Dentist', 'PCP'])\n",
    "\n",
    "\n",
    "colors = ['lightsteelblue', 'cornflowerblue', 'steelblue', 'lightcoral', 'orange', 'orangered']\n",
    "for patch, color in zip(boxplot['boxes'], colors):\n",
    "    patch.set_facecolor(color)\n",
    "    \n",
    "plt.ylabel('Bottom 20      Top 20 ')\n",
    "plt.xlabel('per 100,000 population')\n",
    "plt.title('Average Health Provider Availability')\n",
    "plt.yticks()\n",
    "plt.xlim(-15,875)\n"
   ]
  },
  {
   "cell_type": "code",
   "execution_count": null,
   "metadata": {},
   "outputs": [],
   "source": [
    "\n",
    "all_data = [bottom_MHP['MHP Rate'], top_MHP['MHP Rate'], \n",
    "            bottom_dentist['Dentist Rate'], top_dentist['Dentist Rate'], \n",
    "            bottom_PCP['PCP Rate'], top_PCP['PCP Rate']]\n",
    "plt.rcParams.update({'font.size': 20})\n",
    "boxplot = plt.boxplot(all_data, vert=False, patch_artist=True,labels=['Bottom 20','Top 20','Bottom 20','Top 20','Bottom 20','Top 20'])\n",
    "\n",
    "\n",
    "colors = ['cornflowerblue', 'peachpuff', 'cornflowerblue', 'peachpuff', 'cornflowerblue', 'peachpuff']\n",
    "for patch, color in zip(boxplot['boxes'], colors):\n",
    "    patch.set_facecolor(color)\n",
    "    \n",
    "plt.ylabel('MHP   Dentist   PCP')\n",
    "plt.xlabel('per 100,000 population')\n",
    "plt.title('Average Health Provider Availability')\n",
    "plt.yticks()\n",
    "plt.xlim(-15,875)"
   ]
  },
  {
   "cell_type": "code",
   "execution_count": null,
   "metadata": {},
   "outputs": [],
   "source": [
    "\n",
    "all_data = [bottom_dentist['Dentist Rate'], top_dentist['Dentist Rate'], \n",
    "            bottom_PCP['PCP Rate'], top_PCP['PCP Rate']]\n",
    "plt.rcParams.update({'font.size': 20})\n",
    "boxplot = plt.boxplot(all_data, vert=False, patch_artist=True,labels=['Bottom 20','Top 20','Bottom 20','Top 20'])\n",
    "\n",
    "\n",
    "colors = ['cornflowerblue', 'peachpuff', 'cornflowerblue', 'peachpuff']\n",
    "for patch, color in zip(boxplot['boxes'], colors):\n",
    "    patch.set_facecolor(color)\n",
    "    \n",
    "plt.ylabel('Dentist    |    PCP')\n",
    "plt.xlabel('per 100,000 population')\n",
    "plt.title('Average Health Provider Availability')\n",
    "plt.yticks()\n",
    "# plt.xlim(-15,875)"
   ]
  },
  {
   "cell_type": "code",
   "execution_count": null,
   "metadata": {},
   "outputs": [],
   "source": [
    "\n",
    "all_data = [bottom_MHP['MHP Rate'], top_MHP['MHP Rate'], \n",
    "            bottom_dentist['Dentist Rate'], top_dentist['Dentist Rate'], \n",
    "            bottom_PCP['PCP Rate'], top_PCP['PCP Rate']]\n",
    "plt.rcParams.update({'font.size': 15})\n",
    "boxplot = plt.boxplot(all_data, vert=True, patch_artist=True,labels=['Top 20','\\nBottom 20', 'Top 20','\\nBottom 20', 'Top 20','\\nBottom 20'])\n",
    "\n",
    "\n",
    "colors = ['peachpuff', 'cornflowerblue', 'peachpuff', 'cornflowerblue','peachpuff', 'cornflowerblue']\n",
    "for patch, color in zip(boxplot['boxes'], colors):\n",
    "    patch.set_facecolor(color)\n",
    "    \n",
    "plt.xlabel('\\nMHP     |     Dentist     |     PCP')\n",
    "plt.ylabel('per 100,000 population')\n",
    "plt.title('Average Health Provider Availability')\n",
    "plt.yticks()\n",
    "plt.ylim(-20,875)"
   ]
  },
  {
   "cell_type": "code",
   "execution_count": null,
   "metadata": {
    "scrolled": true
   },
   "outputs": [],
   "source": [
    "\n",
    "all_data = [bottom_dentist['Dentist Rate'], top_dentist['Dentist Rate'], \n",
    "            bottom_PCP['PCP Rate'], top_PCP['PCP Rate']]\n",
    "plt.rcParams.update({'font.size': 15})\n",
    "boxplot = plt.boxplot(all_data, vert=True, patch_artist=True,labels=['Top 20','\\nBottom 20', 'Top 20','\\nBottom 20'])\n",
    "\n",
    "\n",
    "colors = ['peachpuff', 'cornflowerblue','peachpuff', 'cornflowerblue']\n",
    "for patch, color in zip(boxplot['boxes'], colors):\n",
    "    patch.set_facecolor(color)\n",
    "    \n",
    "plt.xlabel('\\nDentist          PCP')\n",
    "plt.ylabel('per 100,000 population')\n",
    "plt.title('Average Health Provider Availability')\n",
    "plt.yticks()\n",
    "# plt.ylim(-20,875)"
   ]
  },
  {
   "cell_type": "code",
   "execution_count": null,
   "metadata": {},
   "outputs": [],
   "source": []
  }
 ],
 "metadata": {
  "kernelspec": {
   "display_name": "Python 3",
   "language": "python",
   "name": "python3"
  },
  "language_info": {
   "codemirror_mode": {
    "name": "ipython",
    "version": 3
   },
   "file_extension": ".py",
   "mimetype": "text/x-python",
   "name": "python",
   "nbconvert_exporter": "python",
   "pygments_lexer": "ipython3",
   "version": "3.7.1"
  }
 },
 "nbformat": 4,
 "nbformat_minor": 2
}
