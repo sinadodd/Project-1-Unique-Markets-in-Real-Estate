{
 "cells": [
  {
   "cell_type": "markdown",
   "metadata": {},
   "source": [
    "# Notes\n",
    "- Last updated 3/29 11pm"
   ]
  },
  {
   "cell_type": "code",
   "execution_count": null,
   "metadata": {},
   "outputs": [],
   "source": [
    "import matplotlib.pyplot as plt\n",
    "import pandas as pd\n",
    "import numpy as np"
   ]
  },
  {
   "cell_type": "code",
   "execution_count": null,
   "metadata": {
    "scrolled": false
   },
   "outputs": [],
   "source": [
    "# Get counties\n",
    "top_county_file = \"Zillow CSV results/top_counties_ppsf.csv\"\n",
    "top_county_df = pd.read_csv(top_county_file, encoding=\"latin\")\n",
    "bottom_county_file = \"Zillow CSV results/bottom_counties_ppsf.csv\"\n",
    "bottom_county_df = pd.read_csv(bottom_county_file, encoding=\"latin\")"
   ]
  },
  {
   "cell_type": "code",
   "execution_count": null,
   "metadata": {},
   "outputs": [],
   "source": [
    "# Clean up counties (Top)\n",
    "\n",
    "top_county_df['RegionName'] = top_county_df['RegionName'].str.replace(\" County\", \"\")\n",
    "top_county_df['County'] = top_county_df['RegionName'] + \", \" + top_county_df['State']\n",
    "\n",
    "top_county_clean = top_county_df[['County']]\n",
    "top_county_clean = top_county_clean.iloc[::-1].reset_index(drop=True)\n",
    "top_county_clean"
   ]
  },
  {
   "cell_type": "code",
   "execution_count": null,
   "metadata": {},
   "outputs": [],
   "source": [
    "# Clean up counties (Bottom)\n",
    "bottom_county_df['RegionName'] = bottom_county_df['RegionName'].str.replace(\" County\", \"\")\n",
    "bottom_county_df['County'] = bottom_county_df['RegionName'] + \", \" + bottom_county_df['State']\n",
    "\n",
    "bottom_county_clean = bottom_county_df[['County']]\n",
    "bottom_county_clean"
   ]
  },
  {
   "cell_type": "code",
   "execution_count": null,
   "metadata": {},
   "outputs": [],
   "source": [
    "# Get health factor data and clean up\n",
    "health_factor_path = \"raw data/2018_all_county_data_1.csv\"\n",
    "health_factor_df = pd.read_csv(health_factor_path, encoding=\"latin\")\n",
    "\n",
    "health_factor_df[\"State\"] = health_factor_df[\"State\"].replace({'Alabama' : 'AL', 'Alaska' : 'AK', 'Arizona' : 'AZ', 'Arkansas' : 'AR', 'California' : 'CA', 'Colorado' : 'CO', 'Connecticut' : 'CT', 'Delaware' : 'DE', 'Florida' : 'FL', 'Georgia' : 'GA', 'Hawaii' : 'HI', 'Idaho' : 'ID', 'Illinois' : 'IL', 'Indiana' : 'IN', 'Iowa' : 'IA', 'Kansas' : 'KS', 'Kentucky' : 'KY', 'Louisiana' : 'LA', 'Maine' : 'ME', 'Maryland' : 'MD', 'Massachusetts' : 'MA', 'Michigan' : 'MI', 'Minnesota' : 'MN', 'Mississippi' : 'MS', 'Missouri' : 'MO', 'Montana' : 'MT', 'Nebraska' : 'NE', 'Nevada' : 'NV', 'New Hampshire' : 'NH', 'New Jersey' : 'NJ', 'New Mexico' : 'NM', 'New York' : 'NY', 'North Carolina' : 'NC', 'North Dakota' : 'ND', 'Ohio' : 'OH', 'Oklahoma' : 'OK', 'Oregon' : 'OR', 'Pennsylvania' : 'PA', 'Rhode Island' : 'RI', 'South Carolina' : 'SC', 'South Dakota' : 'SD', 'Tennessee' : 'TN', 'Texas' : 'TX', 'Utah' : 'UT', 'Vermont' : 'VT', 'Virginia' : 'VA', 'Washington' : 'WA', 'West Virginia' : 'WV', 'Wisconsin' : 'WI', 'Wyoming' : 'WY'})\n",
    "health_factor_df['County'] = health_factor_df[\"County\"] + \", \" + health_factor_df[\"State\"]"
   ]
  },
  {
   "cell_type": "markdown",
   "metadata": {},
   "source": [
    "# Percent Uninsured"
   ]
  },
  {
   "cell_type": "code",
   "execution_count": null,
   "metadata": {},
   "outputs": [],
   "source": [
    "# Specific health factor \n",
    "uninsured_rate = health_factor_df[[\"County\", \"% Uninsured\"]]\n",
    "uninsured_rate.head()"
   ]
  },
  {
   "cell_type": "code",
   "execution_count": null,
   "metadata": {
    "scrolled": true
   },
   "outputs": [],
   "source": [
    "# Make merge for plotting\n",
    "\n",
    "top_county_data = pd.merge(top_county_clean, uninsured_rate, on='County', how='left')\n",
    "bottom_county_data = pd.merge(bottom_county_clean, uninsured_rate, on='County', how='left')\n",
    "bottom_county_data.head()"
   ]
  },
  {
   "cell_type": "code",
   "execution_count": null,
   "metadata": {},
   "outputs": [],
   "source": [
    "# Plot\n",
    "plt.barh(bottom_county_data['County'], bottom_county_data['% Uninsured'])\n",
    "\n",
    "plt.barh(top_county_data['County'], top_county_data['% Uninsured'])"
   ]
  },
  {
   "cell_type": "code",
   "execution_count": null,
   "metadata": {},
   "outputs": [],
   "source": [
    "# Make plot prettier"
   ]
  },
  {
   "cell_type": "code",
   "execution_count": null,
   "metadata": {},
   "outputs": [],
   "source": [
    "# Get p-value"
   ]
  },
  {
   "cell_type": "code",
   "execution_count": null,
   "metadata": {},
   "outputs": [],
   "source": [
    "# Export plot"
   ]
  },
  {
   "cell_type": "markdown",
   "metadata": {},
   "source": [
    "# PCP Rate\n",
    "primary care physician per 100,000 population"
   ]
  },
  {
   "cell_type": "code",
   "execution_count": null,
   "metadata": {},
   "outputs": [],
   "source": [
    "# Get specific health factor data\n",
    "\n",
    "PCP_rate_df = health_factor_df[[\"County\", \"PCP Rate\"]]\n",
    "PCP_rate_df.head()"
   ]
  },
  {
   "cell_type": "code",
   "execution_count": null,
   "metadata": {
    "scrolled": true
   },
   "outputs": [],
   "source": [
    "# Make merge for plotting\n",
    "top_county_data = pd.merge(top_county_clean, PCP_rate_df, on='County', how='left')\n",
    "bottom_county_data = pd.merge(bottom_county_clean, PCP_rate_df, on='County', how='left')\n",
    "bottom_county_data.head()"
   ]
  },
  {
   "cell_type": "code",
   "execution_count": null,
   "metadata": {},
   "outputs": [],
   "source": [
    "# Plot\n",
    "plt.barh(bottom_county_data['County'], bottom_county_data['PCP Rate'])\n",
    "\n",
    "plt.barh(top_county_data['County'], top_county_data['PCP Rate'])"
   ]
  },
  {
   "cell_type": "code",
   "execution_count": null,
   "metadata": {},
   "outputs": [],
   "source": [
    "# Make plot prettier"
   ]
  },
  {
   "cell_type": "code",
   "execution_count": null,
   "metadata": {},
   "outputs": [],
   "source": [
    "# Get p-value"
   ]
  },
  {
   "cell_type": "code",
   "execution_count": null,
   "metadata": {},
   "outputs": [],
   "source": [
    "# Export plot"
   ]
  },
  {
   "cell_type": "markdown",
   "metadata": {},
   "source": [
    "# Dentist Rate\n",
    "dentist per 100,000 population"
   ]
  },
  {
   "cell_type": "code",
   "execution_count": null,
   "metadata": {},
   "outputs": [],
   "source": [
    "# Get specific health factor data\n",
    "\n",
    "dentist_rate_df = health_factor_df[[\"County\", \"Dentist Rate\"]]\n",
    "dentist_rate_df.head()"
   ]
  },
  {
   "cell_type": "code",
   "execution_count": null,
   "metadata": {
    "scrolled": true
   },
   "outputs": [],
   "source": [
    "# Make merge for plotting\n",
    "\n",
    "top_county_data = pd.merge(top_county_clean, dentist_rate_df, on='County', how='left')\n",
    "bottom_county_data = pd.merge(bottom_county_clean, dentist_rate_df, on='County', how='left')\n",
    "bottom_county_data.head()"
   ]
  },
  {
   "cell_type": "code",
   "execution_count": null,
   "metadata": {},
   "outputs": [],
   "source": [
    "# Plot\n",
    "\n",
    "plt.barh(bottom_county_data['County'], bottom_county_data['Dentist Rate'])\n",
    "\n",
    "plt.barh(top_county_data['County'], top_county_data['Dentist Rate'])"
   ]
  },
  {
   "cell_type": "code",
   "execution_count": null,
   "metadata": {},
   "outputs": [],
   "source": [
    "# Make plot prettier"
   ]
  },
  {
   "cell_type": "code",
   "execution_count": null,
   "metadata": {},
   "outputs": [],
   "source": [
    "# Get p-value"
   ]
  },
  {
   "cell_type": "code",
   "execution_count": null,
   "metadata": {},
   "outputs": [],
   "source": [
    "# Export plot"
   ]
  },
  {
   "cell_type": "markdown",
   "metadata": {},
   "source": [
    "# MHP Rate\n",
    "mental health provider per 100,000 population"
   ]
  },
  {
   "cell_type": "code",
   "execution_count": null,
   "metadata": {},
   "outputs": [],
   "source": [
    "# Get specific health factor data\n",
    "\n",
    "MHP_rate = health_factor_df[[\"County\", \"MHP Rate\"]]\n",
    "MHP_rate.head()"
   ]
  },
  {
   "cell_type": "code",
   "execution_count": null,
   "metadata": {
    "scrolled": true
   },
   "outputs": [],
   "source": [
    "# Make merge for plotting\n",
    "\n",
    "top_county_data = pd.merge(top_county_clean, MHP_rate, on='County', how='left')\n",
    "bottom_county_data = pd.merge(bottom_county_clean, MHP_rate, on='County', how='left')\n",
    "bottom_county_data.head()"
   ]
  },
  {
   "cell_type": "code",
   "execution_count": null,
   "metadata": {},
   "outputs": [],
   "source": [
    "# Plot\n",
    "\n",
    "plt.barh(bottom_county_data['County'], bottom_county_data['MHP Rate'])\n",
    "\n",
    "plt.barh(top_county_data['County'], top_county_data['MHP Rate'])"
   ]
  },
  {
   "cell_type": "code",
   "execution_count": null,
   "metadata": {},
   "outputs": [],
   "source": [
    "# Make plot prettier"
   ]
  },
  {
   "cell_type": "code",
   "execution_count": null,
   "metadata": {},
   "outputs": [],
   "source": [
    "# Get p-value"
   ]
  },
  {
   "cell_type": "code",
   "execution_count": null,
   "metadata": {},
   "outputs": [],
   "source": [
    "# Export plot"
   ]
  },
  {
   "cell_type": "markdown",
   "metadata": {},
   "source": [
    "# Percent Smokers"
   ]
  },
  {
   "cell_type": "code",
   "execution_count": null,
   "metadata": {},
   "outputs": [],
   "source": [
    "# Get specific health factor data\n",
    "\n",
    "smokers = health_factor_df[[\"County\", \"% Smokers\"]]\n",
    "smokers.head()"
   ]
  },
  {
   "cell_type": "code",
   "execution_count": null,
   "metadata": {
    "scrolled": true
   },
   "outputs": [],
   "source": [
    "# Make merge for plotting\n",
    "\n",
    "top_county_data = pd.merge(top_county_clean, smokers, on='County', how='left')\n",
    "bottom_county_data = pd.merge(bottom_county_clean, smokers, on='County', how='left')\n",
    "bottom_county_data.head()"
   ]
  },
  {
   "cell_type": "code",
   "execution_count": null,
   "metadata": {},
   "outputs": [],
   "source": [
    "# Plot\n",
    "\n",
    "plt.barh(bottom_county_data['County'], bottom_county_data['% Smokers'])\n",
    "\n",
    "plt.barh(top_county_data['County'], top_county_data['% Smokers'])"
   ]
  },
  {
   "cell_type": "code",
   "execution_count": null,
   "metadata": {},
   "outputs": [],
   "source": [
    "# Make plot prettier"
   ]
  },
  {
   "cell_type": "code",
   "execution_count": null,
   "metadata": {},
   "outputs": [],
   "source": [
    "# Get p-value"
   ]
  },
  {
   "cell_type": "code",
   "execution_count": null,
   "metadata": {},
   "outputs": [],
   "source": [
    "# Export plot"
   ]
  },
  {
   "cell_type": "markdown",
   "metadata": {},
   "source": [
    "# Adult Obesity\n",
    "- Percentage of adults that report BMI >= 30"
   ]
  },
  {
   "cell_type": "code",
   "execution_count": null,
   "metadata": {},
   "outputs": [],
   "source": [
    "# Get specific health factor data\n",
    "\n",
    "obese = health_factor_df[[\"County\", \"% Obese\"]]\n",
    "obese.head()"
   ]
  },
  {
   "cell_type": "code",
   "execution_count": null,
   "metadata": {
    "scrolled": true
   },
   "outputs": [],
   "source": [
    "# Make merge for plotting\n",
    "\n",
    "top_county_data = pd.merge(top_county_clean, obese, on='County', how='left')\n",
    "bottom_county_data = pd.merge(bottom_county_clean, obese, on='County', how='left')\n",
    "bottom_county_data.head()"
   ]
  },
  {
   "cell_type": "code",
   "execution_count": null,
   "metadata": {},
   "outputs": [],
   "source": [
    "# Plot\n",
    "\n",
    "plt.barh(bottom_county_data['County'], bottom_county_data['% Obese'])\n",
    "\n",
    "plt.barh(top_county_data['County'], top_county_data['% Obese'])"
   ]
  },
  {
   "cell_type": "code",
   "execution_count": null,
   "metadata": {},
   "outputs": [],
   "source": [
    "# Make plot prettier"
   ]
  },
  {
   "cell_type": "code",
   "execution_count": null,
   "metadata": {},
   "outputs": [],
   "source": [
    "# Get p-value"
   ]
  },
  {
   "cell_type": "code",
   "execution_count": null,
   "metadata": {},
   "outputs": [],
   "source": [
    "# Export plot"
   ]
  },
  {
   "cell_type": "markdown",
   "metadata": {},
   "source": [
    "# Teen Birth Rate\n",
    "- Births per 1,000 females ages 15-19"
   ]
  },
  {
   "cell_type": "code",
   "execution_count": null,
   "metadata": {},
   "outputs": [],
   "source": [
    "# Get specific health factor data\n",
    "\n",
    "teen_birth = health_factor_df[[\"County\", \"Teen Birth Rate\"]]\n",
    "teen_birth.head()"
   ]
  },
  {
   "cell_type": "code",
   "execution_count": null,
   "metadata": {
    "scrolled": true
   },
   "outputs": [],
   "source": [
    "# Make merge for plotting\n",
    "\n",
    "top_county_data = pd.merge(top_county_clean, teen_birth, on='County', how='left')\n",
    "bottom_county_data = pd.merge(bottom_county_clean, teen_birth, on='County', how='left')\n",
    "bottom_county_data.head()"
   ]
  },
  {
   "cell_type": "code",
   "execution_count": null,
   "metadata": {},
   "outputs": [],
   "source": [
    "# Plot\n",
    "\n",
    "plt.barh(bottom_county_data['County'], bottom_county_data['Teen Birth Rate'])\n",
    "\n",
    "plt.barh(top_county_data['County'], top_county_data['Teen Birth Rate'])"
   ]
  },
  {
   "cell_type": "code",
   "execution_count": null,
   "metadata": {},
   "outputs": [],
   "source": [
    "# Make plot prettier"
   ]
  },
  {
   "cell_type": "code",
   "execution_count": null,
   "metadata": {},
   "outputs": [],
   "source": [
    "# Get p-value"
   ]
  },
  {
   "cell_type": "code",
   "execution_count": null,
   "metadata": {},
   "outputs": [],
   "source": [
    "# Export plot"
   ]
  },
  {
   "cell_type": "markdown",
   "metadata": {},
   "source": [
    "# Percent Low Birth Weight\n",
    "- Percentage of births with low birth weight (<2500g)"
   ]
  },
  {
   "cell_type": "code",
   "execution_count": null,
   "metadata": {},
   "outputs": [],
   "source": [
    "# Get specific health factor data\n",
    "\n",
    "LBW = health_factor_df[[\"County\", \"% LBW\"]]\n",
    "LBW.head()"
   ]
  },
  {
   "cell_type": "code",
   "execution_count": null,
   "metadata": {
    "scrolled": true
   },
   "outputs": [],
   "source": [
    "# Make merge for plotting\n",
    "\n",
    "top_county_data = pd.merge(top_county_clean, LBW, on='County', how='left')\n",
    "bottom_county_data = pd.merge(bottom_county_clean, LBW, on='County', how='left')\n",
    "bottom_county_data.head()"
   ]
  },
  {
   "cell_type": "code",
   "execution_count": null,
   "metadata": {},
   "outputs": [],
   "source": [
    "# Plot\n",
    "\n",
    "plt.barh(bottom_county_data['County'], bottom_county_data['% LBW'])\n",
    "\n",
    "plt.barh(top_county_data['County'], top_county_data['% LBW'])"
   ]
  },
  {
   "cell_type": "code",
   "execution_count": null,
   "metadata": {},
   "outputs": [],
   "source": [
    "# Make plot prettier"
   ]
  },
  {
   "cell_type": "code",
   "execution_count": null,
   "metadata": {},
   "outputs": [],
   "source": [
    "# Get p-value"
   ]
  },
  {
   "cell_type": "code",
   "execution_count": null,
   "metadata": {},
   "outputs": [],
   "source": [
    "# Export plot"
   ]
  },
  {
   "cell_type": "code",
   "execution_count": null,
   "metadata": {},
   "outputs": [],
   "source": []
  }
 ],
 "metadata": {
  "kernelspec": {
   "display_name": "Python 3",
   "language": "python",
   "name": "python3"
  },
  "language_info": {
   "codemirror_mode": {
    "name": "ipython",
    "version": 3
   },
   "file_extension": ".py",
   "mimetype": "text/x-python",
   "name": "python",
   "nbconvert_exporter": "python",
   "pygments_lexer": "ipython3",
   "version": "3.7.1"
  }
 },
 "nbformat": 4,
 "nbformat_minor": 2
}
